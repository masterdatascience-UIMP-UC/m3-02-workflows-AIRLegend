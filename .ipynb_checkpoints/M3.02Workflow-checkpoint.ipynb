{
 "cells": [
  {
   "cell_type": "markdown",
   "metadata": {},
   "source": [
    "# Autores\n",
    "### Álvaro Ibrain Rodríguez\n",
    "### Elsa Cerezo Fernández\n",
    "---"
   ]
  },
  {
   "cell_type": "markdown",
   "metadata": {},
   "source": [
    "# Workflow\n",
    "\n",
    "En esta práctica vamos a aplicar lo aprendido en esta asignatura para crear un flujo que automatice la descarga, análisis y publicación de los datos utilizando distintas herramientas como Zenodo, github y librerías de python para el análisis de datos\n",
    "\n",
    "### Librerías necesarias para la práctica\n",
    "\n",
    "```python\n",
    "import xml.etree.ElementTree as ET\n",
    "import requests\n",
    "import json\n",
    "import zipfile\n",
    "```\n",
    "\n",
    "### Elementos necesarios\n",
    "* Al menos un fichero CSV\n",
    "* Un script de análisis de datos en CSV (Publicado en Github)\n"
   ]
  },
  {
   "cell_type": "code",
   "execution_count": 6,
   "metadata": {},
   "outputs": [],
   "source": [
    "import xml.etree.ElementTree as ET\n",
    "import requests\n",
    "import json\n",
    "import zipfile\n",
    "import io\n",
    "import pandas as pd"
   ]
  },
  {
   "cell_type": "markdown",
   "metadata": {},
   "source": [
    "# Publicación de datos iniciales\n",
    "\n",
    "Utilizando Zenodo, de forma manual, publicar los datos que se vayan a utilizar.\n",
    "\n",
    "<div class=\"alert alert-warning\" role=\"alert\" style=\"margin: 10px\">\n",
    "<p>Utilizar Communities para localizar más facilmente los datos</p>\n",
    "</div>\n"
   ]
  },
  {
   "cell_type": "markdown",
   "metadata": {},
   "source": [
    "Subido en: https://zenodo.org/record/2541780#.XD9Oi89Kghg"
   ]
  },
  {
   "cell_type": "markdown",
   "metadata": {},
   "source": [
    "# Publicación de script de Análisis\n",
    "\n",
    "En Github + Zenodo"
   ]
  },
  {
   "cell_type": "markdown",
   "metadata": {},
   "source": [
    "Publicado en: https://github.com/AIRLegend/workflowDLC"
   ]
  },
  {
   "cell_type": "markdown",
   "metadata": {},
   "source": [
    "\n",
    "\n",
    "# Descarga de datos\n",
    "\n",
    "Desde Zenodo, utilizando los métodos conocidos (OAI-PMH, API)\n",
    "\n",
    "Pista: url+'?verb=ListRecords&set=nombre_set"
   ]
  },
  {
   "cell_type": "code",
   "execution_count": 2,
   "metadata": {},
   "outputs": [],
   "source": [
    "import xml.etree.ElementTree as ET\n",
    "import requests"
   ]
  },
  {
   "cell_type": "code",
   "execution_count": 3,
   "metadata": {},
   "outputs": [
    {
     "name": "stdout",
     "output_type": "stream",
     "text": [
      "{http://purl.org/dc/elements/1.1/}identifier\n",
      "https://zenodo.org/record/2542008\n",
      "{http://purl.org/dc/elements/1.1/}identifier\n",
      "10.5281/zenodo.2542008\n",
      "{http://purl.org/dc/elements/1.1/}identifier\n",
      "oai:zenodo.org:2542008\n",
      "{http://purl.org/dc/elements/1.1/}identifier\n",
      "https://zenodo.org/record/2541780\n",
      "{http://purl.org/dc/elements/1.1/}identifier\n",
      "10.5281/zenodo.2541780\n",
      "{http://purl.org/dc/elements/1.1/}identifier\n",
      "oai:zenodo.org:2541780\n"
     ]
    }
   ],
   "source": [
    "\n",
    "oai = requests.get('https://zenodo.org/oai2d?verb=ListRecords&set=user-airecf&metadataPrefix=oai_dc')\n",
    "xmlTree = ET.fromstring(oai.text)\n",
    "#iterator = xmlTree.iter()\n",
    "xmlTree = xmlTree.findall('.//{http://purl.org/dc/elements/1.1/}identifier')\n",
    "\n",
    "\n",
    "#id_record = xmlTree[0].text.split(\"/\")[-1]\n",
    "zenodo_records_resource = \"https://zenodo.org/api/records/\"\n",
    "headers = {'Accept': 'application/ld+json'}\n",
    "\n",
    "#r = requests.get(zenodo_records_resource+id_record,headers)\n",
    "#r = json.loads(r.text)\n",
    "\n",
    "for elem in xmlTree:\n",
    "    print(elem.tag)\n",
    "    print(elem.text)\n",
    "    \n",
    "    "
   ]
  },
  {
   "cell_type": "code",
   "execution_count": 20,
   "metadata": {},
   "outputs": [
    {
     "name": "stdout",
     "output_type": "stream",
     "text": [
      "Encontrado CSV: https://zenodo.org/api/files/89657201-0f98-4f84-9c44-ec6c4437cf5c/2010_alcohol_consumption_by_country.csv\n"
     ]
    }
   ],
   "source": [
    "#Buscar identificadores de la organización\n",
    "oai = requests.get('https://zenodo.org/oai2d?verb=ListRecords&set=user-airecf&metadataPrefix=oai_dc')\n",
    "xmlTree = ET.fromstring(oai.text)\n",
    "xmlTree = xmlTree.findall('.//{http://purl.org/dc/elements/1.1/}identifier')\n",
    "\n",
    "zenodo_records_resource = \"https://zenodo.org/api/records/\"\n",
    "headers = {'Accept': 'application/ld+json'}\n",
    "\n",
    "url_csv = \"\"\n",
    "\n",
    "#Para cada identificador\n",
    "for elem in xmlTree:\n",
    "    if elem.text.startswith(\"https://\"):\n",
    "        #Obtener su ID\n",
    "        id_record = elem.text.split(\"/\")[-1]\n",
    "        #Pedir su JSON\n",
    "        r = requests.get(zenodo_records_resource+id_record,headers)\n",
    "        r = json.loads(r.text)\n",
    "        \n",
    "        filename = r['files'][0]['links']['self']\n",
    "        #Si es csv:\n",
    "        if filename.endswith(\".csv\"):\n",
    "            #Es el dataset\n",
    "            url_csv = filename\n",
    "            print(\"Encontrado CSV: \" + filename)\n",
    "    \n",
    "    \n",
    "    "
   ]
  },
  {
   "cell_type": "code",
   "execution_count": 21,
   "metadata": {},
   "outputs": [],
   "source": [
    "c=pd.read_csv(url_csv)"
   ]
  },
  {
   "cell_type": "code",
   "execution_count": 22,
   "metadata": {},
   "outputs": [
    {
     "data": {
      "text/html": [
       "<div>\n",
       "<style scoped>\n",
       "    .dataframe tbody tr th:only-of-type {\n",
       "        vertical-align: middle;\n",
       "    }\n",
       "\n",
       "    .dataframe tbody tr th {\n",
       "        vertical-align: top;\n",
       "    }\n",
       "\n",
       "    .dataframe thead th {\n",
       "        text-align: right;\n",
       "    }\n",
       "</style>\n",
       "<table border=\"1\" class=\"dataframe\">\n",
       "  <thead>\n",
       "    <tr style=\"text-align: right;\">\n",
       "      <th></th>\n",
       "      <th>location</th>\n",
       "      <th>alcohol</th>\n",
       "    </tr>\n",
       "  </thead>\n",
       "  <tbody>\n",
       "    <tr>\n",
       "      <th>0</th>\n",
       "      <td>Belarus</td>\n",
       "      <td>17.5</td>\n",
       "    </tr>\n",
       "    <tr>\n",
       "      <th>1</th>\n",
       "      <td>Moldova</td>\n",
       "      <td>16.8</td>\n",
       "    </tr>\n",
       "    <tr>\n",
       "      <th>2</th>\n",
       "      <td>Lithuania</td>\n",
       "      <td>15.4</td>\n",
       "    </tr>\n",
       "    <tr>\n",
       "      <th>3</th>\n",
       "      <td>Russia</td>\n",
       "      <td>15.1</td>\n",
       "    </tr>\n",
       "    <tr>\n",
       "      <th>4</th>\n",
       "      <td>Romania</td>\n",
       "      <td>14.4</td>\n",
       "    </tr>\n",
       "  </tbody>\n",
       "</table>\n",
       "</div>"
      ],
      "text/plain": [
       "    location  alcohol\n",
       "0    Belarus     17.5\n",
       "1    Moldova     16.8\n",
       "2  Lithuania     15.4\n",
       "3     Russia     15.1\n",
       "4    Romania     14.4"
      ]
     },
     "execution_count": 22,
     "metadata": {},
     "output_type": "execute_result"
    }
   ],
   "source": [
    "c.head(5)"
   ]
  },
  {
   "cell_type": "markdown",
   "metadata": {},
   "source": [
    "# Descarga de código\n",
    "\n",
    "Desde Zenodo, utilizando los métodos conocidos (OAI-PMH, API)\n",
    "\n",
    "<div class=\"alert alert-warning\" role=\"alert\" style=\"margin: 10px\">\n",
    "<p>Zenodo guarda un zip con el código</p>\n",
    "</div>"
   ]
  },
  {
   "cell_type": "code",
   "execution_count": 14,
   "metadata": {},
   "outputs": [
    {
     "name": "stdout",
     "output_type": "stream",
     "text": [
      "Encontrado CODIGO: https://zenodo.org/api/files/cbb4d363-f499-412d-80ab-db1fe2ae0181/AIRLegend/workflowDLC-v4.0.zip\n"
     ]
    }
   ],
   "source": [
    "#Buscar identificadores de la organización\n",
    "oai = requests.get('https://zenodo.org/oai2d?verb=ListRecords&set=user-airecf&metadataPrefix=oai_dc')\n",
    "xmlTree = ET.fromstring(oai.text)\n",
    "xmlTree = xmlTree.findall('.//{http://purl.org/dc/elements/1.1/}identifier')\n",
    "\n",
    "zenodo_records_resource = \"https://zenodo.org/api/records/\"\n",
    "headers = {'Accept': 'application/ld+json'}\n",
    "\n",
    "url_zip = \"\"\n",
    "\n",
    "#Para cada identificador\n",
    "for elem in xmlTree:\n",
    "    if elem.text.startswith(\"https://\"):\n",
    "        #Obtener su ID\n",
    "        id_record = elem.text.split(\"/\")[-1]\n",
    "        #Pedir su JSON\n",
    "        r = requests.get(zenodo_records_resource+id_record,headers)\n",
    "        r = json.loads(r.text)\n",
    "        \n",
    "        filename = r['files'][0]['links']['self']\n",
    "        #Si es csv:\n",
    "        if filename.endswith(\".zip\"):\n",
    "            #Es el dataset\n",
    "            url_zip = filename\n",
    "            print(\"Encontrado CODIGO: \" + filename)\n",
    "            \n",
    "            \n",
    "            \n",
    "            \n",
    "            "
   ]
  },
  {
   "cell_type": "code",
   "execution_count": 15,
   "metadata": {},
   "outputs": [],
   "source": [
    "#Extraer zip\n",
    "r = requests.get(url_zip)\n",
    "z = zipfile.ZipFile(io.BytesIO(r.content))\n",
    "z.extractall()"
   ]
  },
  {
   "cell_type": "markdown",
   "metadata": {},
   "source": [
    "# Análisis de los datos\n",
    "\n",
    "Producir fichero: Otro CSV, imagen, etc"
   ]
  },
  {
   "cell_type": "code",
   "execution_count": 16,
   "metadata": {},
   "outputs": [],
   "source": [
    "name = [name for name in z.namelist() if name.endswith(\".py\")][0]"
   ]
  },
  {
   "cell_type": "code",
   "execution_count": 23,
   "metadata": {},
   "outputs": [
    {
     "data": {
      "image/png": "[encoded data removed]",
      "text/plain": [
       "<Figure size 432x288 with 1 Axes>"
      ]
     },
     "metadata": {},
     "output_type": "display_data"
    }
   ],
   "source": [
    "#Ejecutar script\n",
    "%run -i $name $url_csv"
   ]
  },
  {
   "cell_type": "markdown",
   "metadata": {},
   "source": [
    "# Publicación de los Datos\n",
    "\n",
    "Utilizando la API de Zenodo"
   ]
  },
  {
   "cell_type": "code",
   "execution_count": 25,
   "metadata": {},
   "outputs": [
    {
     "data": {
      "text/plain": [
       "{'conceptrecid': '2542025',\n",
       " 'created': '2019-01-16T18:06:37.817316+00:00',\n",
       " 'files': [],\n",
       " 'id': 2542026,\n",
       " 'links': {'bucket': 'https://zenodo.org/api/files/60cb82bc-2c15-4e4a-965f-aa983fd1970a',\n",
       "  'discard': 'https://zenodo.org/api/deposit/depositions/2542026/actions/discard',\n",
       "  'edit': 'https://zenodo.org/api/deposit/depositions/2542026/actions/edit',\n",
       "  'files': 'https://zenodo.org/api/deposit/depositions/2542026/files',\n",
       "  'html': 'https://zenodo.org/deposit/2542026',\n",
       "  'latest_draft': 'https://zenodo.org/api/deposit/depositions/2542026',\n",
       "  'latest_draft_html': 'https://zenodo.org/deposit/depositions/2542026',\n",
       "  'publish': 'https://zenodo.org/api/deposit/depositions/2542026/actions/publish',\n",
       "  'self': 'https://zenodo.org/api/deposit/depositions/2542026'},\n",
       " 'metadata': {'prereserve_doi': {'doi': '10.5281/zenodo.2542026',\n",
       "   'recid': 2542026}},\n",
       " 'modified': '2019-01-16T18:06:37.817324+00:00',\n",
       " 'owner': 59013,\n",
       " 'record_id': 2542026,\n",
       " 'state': 'unsubmitted',\n",
       " 'submitted': False,\n",
       " 'title': ''}"
      ]
     },
     "execution_count": 25,
     "metadata": {},
     "output_type": "execute_result"
    }
   ],
   "source": [
    "ACCESS_TOKEN = \"mzsZa9Q12q09DtJgS6ktk6mWlfrecJBVXPgZOCPRVoU9AOSEXCuF09V8xWVN\"\n",
    "headers = {\"Content-Type\": \"application/json\"}\n",
    "r = requests.post('https://zenodo.org/api/deposit/depositions',\n",
    "                   params={'access_token': ACCESS_TOKEN}, json={},\n",
    "                   headers=headers)\n",
    "r.status_code\n",
    "\n",
    "r.json()"
   ]
  },
  {
   "cell_type": "code",
   "execution_count": 27,
   "metadata": {},
   "outputs": [
    {
     "data": {
      "text/plain": [
       "{'checksum': '94ff45c2219bf2c5d019363d4dabce38',\n",
       " 'filename': 'image.jpg',\n",
       " 'filesize': 12524,\n",
       " 'id': 'c00f0ae8-de7f-477c-9834-b4fd5cb900b4',\n",
       " 'links': {'download': 'https://zenodo.org/api/files/60cb82bc-2c15-4e4a-965f-aa983fd1970a/image.jpg',\n",
       "  'self': 'https://zenodo.org/api/deposit/depositions/2542026/files/c00f0ae8-de7f-477c-9834-b4fd5cb900b4'}}"
      ]
     },
     "execution_count": 27,
     "metadata": {},
     "output_type": "execute_result"
    }
   ],
   "source": [
    "deposition_id = r.json()['id']\n",
    "data = {'filename': 'image.jpg'}\n",
    "files = {'file': open('image.jpg', 'rb')}\n",
    "r = requests.post('https://zenodo.org/api/deposit/depositions/%s/files' % deposition_id,\n",
    "                   params={'access_token': ACCESS_TOKEN}, data=data,\n",
    "                   files=files)\n",
    "r.status_code\n",
    "\n",
    "r.json()"
   ]
  },
  {
   "cell_type": "code",
   "execution_count": 28,
   "metadata": {},
   "outputs": [
    {
     "data": {
      "text/plain": [
       "200"
      ]
     },
     "execution_count": 28,
     "metadata": {},
     "output_type": "execute_result"
    }
   ],
   "source": [
    "data = {\n",
    "    'metadata': {\n",
    "        'title': 'Imagen Alcohol',\n",
    "        'upload_type': 'poster',\n",
    "        'description': 'Resultado del script',\n",
    "        'creators': [{'name': 'Ibrain, Alvaro',\n",
    "                      'affiliation': 'Zenodo'},\n",
    "                     {'name': 'Cerezo, Elsa',\n",
    "                      'affiliation': 'Zenodo'}]\n",
    "    }\n",
    "}\n",
    "r = requests.put('https://zenodo.org/api/deposit/depositions/%s' % deposition_id,\n",
    "                 params={'access_token': ACCESS_TOKEN}, data=json.dumps(data),\n",
    "                 headers=headers)\n",
    "r.status_code\n"
   ]
  },
  {
   "cell_type": "code",
   "execution_count": 29,
   "metadata": {},
   "outputs": [
    {
     "data": {
      "text/plain": [
       "202"
      ]
     },
     "execution_count": 29,
     "metadata": {},
     "output_type": "execute_result"
    }
   ],
   "source": [
    "r = requests.post('https://zenodo.org/api/deposit/depositions/%s/actions/publish' % deposition_id,\n",
    "                      params={'access_token': ACCESS_TOKEN} )\n",
    "r.status_code\n"
   ]
  }
 ],
 "metadata": {
  "kernelspec": {
   "display_name": "Python 3",
   "language": "python",
   "name": "python3"
  },
  "language_info": {
   "codemirror_mode": {
    "name": "ipython",
    "version": 3
   },
   "file_extension": ".py",
   "mimetype": "text/x-python",
   "name": "python",
   "nbconvert_exporter": "python",
   "pygments_lexer": "ipython3",
   "version": "3.6.5"
  }
 },
 "nbformat": 4,
 "nbformat_minor": 2
}
